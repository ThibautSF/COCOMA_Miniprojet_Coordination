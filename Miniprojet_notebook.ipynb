{
 "cells": [
  {
   "cell_type": "markdown",
   "metadata": {},
   "source": [
    "# Miniprojet Coordination & Allocation de ressources"
   ]
  },
  {
   "cell_type": "markdown",
   "metadata": {},
   "source": [
    "* Simon-Fine Thibaut\n",
    "* Sénéchal Sylvain"
   ]
  },
  {
   "cell_type": "markdown",
   "metadata": {},
   "source": [
    "## I/ Protocoles SSI\n",
    "\n",
    "### 1) Classique"
   ]
  },
  {
   "cell_type": "code",
   "execution_count": 9,
   "metadata": {},
   "outputs": [],
   "source": [
    "import src.SSInoRegret as ssinr\n"
   ]
  },
  {
   "cell_type": "code",
   "execution_count": 11,
   "metadata": {},
   "outputs": [
    {
     "name": "stdout",
     "output_type": "stream",
     "text": [
      "############# New allocation round #############\n",
      "Agent n° 0 bids 3 on ressource n° 0\n",
      "Agent n° 1 bids 2 on ressource n° 0\n",
      "-----> Agent n° 1 gets ressource n° 0\n",
      "############# New allocation round #############\n",
      "Agent n° 0 bids 3 on ressource n° 1\n",
      "Agent n° 1 bids 2 on ressource n° 3\n",
      "-----> Agent n° 1 gets ressource n° 3\n",
      "############# New allocation round #############\n",
      "Agent n° 0 bids 3 on ressource n° 1\n",
      "Agent n° 1 bids 2 on ressource n° 1\n",
      "-----> Agent n° 1 gets ressource n° 1\n",
      "############# New allocation round #############\n",
      "Agent n° 0 bids 4 on ressource n° 2\n",
      "Agent n° 1 bids 3 on ressource n° 2\n",
      "-----> Agent n° 1 gets ressource n° 2\n",
      "r0 -> []\n",
      "r1 -> [o1, o4, o2, o3]\n"
     ]
    },
    {
     "ename": "AttributeError",
     "evalue": "'SSI' object has no attribute 'printMap'",
     "output_type": "error",
     "traceback": [
      "\u001b[0;31m---------------------------------------------------------------------------\u001b[0m",
      "\u001b[0;31mAttributeError\u001b[0m                            Traceback (most recent call last)",
      "\u001b[0;32m<ipython-input-11-00fd79de0263>\u001b[0m in \u001b[0;36m<module>\u001b[0;34m\u001b[0m\n\u001b[1;32m      6\u001b[0m \u001b[0;32mfor\u001b[0m \u001b[0magent\u001b[0m \u001b[0;32min\u001b[0m \u001b[0mssi\u001b[0m\u001b[0;34m.\u001b[0m\u001b[0menv\u001b[0m\u001b[0;34m.\u001b[0m\u001b[0magent_lst\u001b[0m\u001b[0;34m:\u001b[0m\u001b[0;34m\u001b[0m\u001b[0;34m\u001b[0m\u001b[0m\n\u001b[1;32m      7\u001b[0m         \u001b[0mprint\u001b[0m\u001b[0;34m(\u001b[0m\u001b[0magent\u001b[0m\u001b[0;34m.\u001b[0m\u001b[0mname\u001b[0m \u001b[0;34m+\u001b[0m \u001b[0;34m\" -> \"\u001b[0m \u001b[0;34m+\u001b[0m \u001b[0mstr\u001b[0m\u001b[0;34m(\u001b[0m\u001b[0magent\u001b[0m\u001b[0;34m.\u001b[0m\u001b[0mallocatedResLst\u001b[0m\u001b[0;34m)\u001b[0m\u001b[0;34m)\u001b[0m\u001b[0;34m\u001b[0m\u001b[0;34m\u001b[0m\u001b[0m\n\u001b[0;32m----> 8\u001b[0;31m \u001b[0mssi\u001b[0m\u001b[0;34m.\u001b[0m\u001b[0mprintMap\u001b[0m\u001b[0;34m(\u001b[0m\u001b[0;34m)\u001b[0m\u001b[0;34m\u001b[0m\u001b[0;34m\u001b[0m\u001b[0m\n\u001b[0m",
      "\u001b[0;31mAttributeError\u001b[0m: 'SSI' object has no attribute 'printMap'"
     ]
    }
   ],
   "source": [
    "list_agent = [ssinr.Agent(\"r0\", (2, 5)), ssinr.Agent(\"r1\", (4, 4))]\n",
    "list_res = [ssinr.Ressource(\"o1\", (5, 5)), ssinr.Ressource(\"o2\", (2, 2)), ssinr.Ressource(\"o3\", (4, 7)), ssinr.Ressource(\"o4\", (4, 2))]\n",
    "env = ssinr.Environment(list_agent, list_res, 8)\n",
    "ssi = ssinr.SSI(env)\n",
    "ssi.allocate()\n",
    "for agent in ssi.env.agent_lst:\n",
    "        print(agent.name + \" -> \" + str(agent.allocatedResLst))\n",
    "ssi.printMap()"
   ]
  },
  {
   "cell_type": "markdown",
   "metadata": {},
   "source": [
    "*Commentaires*"
   ]
  },
  {
   "cell_type": "code",
   "execution_count": 3,
   "metadata": {},
   "outputs": [],
   "source": [
    "# Execution random"
   ]
  },
  {
   "cell_type": "markdown",
   "metadata": {},
   "source": [
    "*Commentaires*"
   ]
  },
  {
   "cell_type": "markdown",
   "metadata": {},
   "source": [
    "### 2) Regret"
   ]
  },
  {
   "cell_type": "code",
   "execution_count": 4,
   "metadata": {},
   "outputs": [],
   "source": [
    "# Import"
   ]
  },
  {
   "cell_type": "code",
   "execution_count": 5,
   "metadata": {},
   "outputs": [],
   "source": [
    "# Execution fiche exemple"
   ]
  },
  {
   "cell_type": "markdown",
   "metadata": {},
   "source": [
    "*Commentaires*"
   ]
  },
  {
   "cell_type": "code",
   "execution_count": 6,
   "metadata": {},
   "outputs": [],
   "source": [
    "# Execution random"
   ]
  },
  {
   "cell_type": "markdown",
   "metadata": {},
   "source": [
    "*Commentaires*"
   ]
  },
  {
   "cell_type": "markdown",
   "metadata": {},
   "source": [
    "## I/ Protocole CBAA"
   ]
  },
  {
   "cell_type": "code",
   "execution_count": 7,
   "metadata": {},
   "outputs": [],
   "source": [
    "# Import\n",
    "import src.cbaa as cbaa\n",
    "\n",
    "def printMap(my_cbaa):\n",
    "    print(\"Map:\")\n",
    "    for x in range(my_cbaa.env.envsize):\n",
    "        line = \"\"\n",
    "        for y in range(my_cbaa.env.envsize):\n",
    "            s = \"_\"\n",
    "            for one_agent in my_cbaa.env.agent_lst:\n",
    "                if one_agent.posx == x and one_agent.posy == y:\n",
    "                    s = one_agent.name\n",
    "\n",
    "            for one_res in my_cbaa.env.res_lst:\n",
    "                if one_res.posx == x and one_res.posy == y:\n",
    "                    s = one_res.name\n",
    "\n",
    "            line += s + \"\\t\"\n",
    "        print(line)\n",
    "    pass\n",
    "\n",
    "def printUtilities(my_cbaa):\n",
    "    print(\"\\nUtilities:\")\n",
    "    for one_agent in my_cbaa.env.agent_lst:\n",
    "        print(str(one_agent) + \" -> \" + str(one_agent.utilities))\n",
    "    pass\n",
    "\n",
    "def printFinal(my_cbaa):\n",
    "    print(\"\\nFinal assignment :\")\n",
    "    for one_agent in my_cbaa.env.agent_lst:\n",
    "        print(str(one_agent) + \" -> \" + str(one_agent.allocatedResSet))\n"
   ]
  },
  {
   "cell_type": "code",
   "execution_count": 8,
   "metadata": {},
   "outputs": [
    {
     "name": "stdout",
     "output_type": "stream",
     "text": [
      "Map:\n",
      "_\ta1\t_\tt1\t\n",
      "_\t_\t_\tt2\t\n",
      "_\ta2\t_\tt3\t\n",
      "a3\t_\ta4\tt4\t\n",
      "\n",
      "Utilities:\n",
      "a1 -> [5, 1, 2, 3]\n",
      "a2 -> [1, 3, 6, 1]\n",
      "a3 -> [1, 2, 5, 3]\n",
      "a4 -> [8, 1, 1, 1]\n",
      "\n",
      "START CBAA\n",
      "\n",
      "Turn 1, 0 allocated\n",
      "a1 -> [(0, None), (0, None), (0, None), (0, None)] -> set()\n",
      "a2 -> [(0, None), (0, None), (0, None), (0, None)] -> set()\n",
      "a3 -> [(0, None), (0, None), (0, None), (0, None)] -> set()\n",
      "a4 -> [(0, None), (0, None), (0, None), (0, None)] -> set()\n",
      "Auctioning #1\n",
      "a1 bid 2 on t1\n",
      "a2 bid 3 on t3\n",
      "a3 bid 2 on t3\n",
      "a4 bid 7 on t1\n",
      "Consensus #1\n",
      "[False, False, False, False]\n",
      "[False, False, False, False]\n",
      "[False, False, False, False]\n",
      "[False, False, False, False]\n",
      "[False, False, False, False]\n",
      "a3 loose bid on t3\n",
      "[False, False, False, False]\n",
      "[False, False, False, False]\n",
      "[False, False, False, False]\n",
      "\n",
      "Turn 2, 1 allocated\n",
      "a1 -> [(2, a1), (0, None), (3, a2), (0, None)] -> {t1}\n",
      "a2 -> [(7, a4), (0, None), (3, a2), (0, None)] -> {t3}\n",
      "a3 -> [(7, a4), (0, None), (3, a2), (0, None)] -> set()\n",
      "a4 -> [(7, a4), (0, None), (3, a2), (0, None)] -> {t1}\n",
      "Auctioning #2\n",
      "a3 bid 1 on t4\n",
      "Consensus #2\n",
      "[False, False, True, False]\n",
      "a1 loose bid on t1\n",
      "[False, False, True, False]\n",
      "[True, False, True, False]\n",
      "[True, False, True, False]\n",
      "[True, False, True, False]\n",
      "[True, False, True, False]\n",
      "[True, False, True, False]\n",
      "[True, False, True, False]\n",
      "\n",
      "Turn 3, 3 allocated\n",
      "a1 -> [(7, a4), (0, None), (3, a2), (0, None)] -> set()\n",
      "a2 -> [(7, a4), (0, None), (3, a2), (1, a3)] -> {t3}\n",
      "a3 -> [(7, a4), (0, None), (3, a2), (1, a3)] -> {t4}\n",
      "a4 -> [(7, a4), (0, None), (3, a2), (1, a3)] -> {t1}\n",
      "Auctioning #3\n",
      "a1 bid 2 on t4\n",
      "Consensus #3\n",
      "[True, False, True, False]\n",
      "[True, False, True, False]\n",
      "[True, False, True, True]\n",
      "[True, False, True, True]\n",
      "[True, False, True, True]\n",
      "[True, False, True, True]\n",
      "[True, False, True, True]\n",
      "[True, False, True, True]\n",
      "\n",
      "Turn 4, 2 allocated\n",
      "a1 -> [(7, a4), (0, None), (3, a2), (2, a1)] -> {t4}\n",
      "a2 -> [(7, a4), (0, None), (3, a2), (2, a1)] -> {t3}\n",
      "a3 -> [(7, a4), (0, None), (3, a2), (1, a3)] -> {t4}\n",
      "a4 -> [(7, a4), (0, None), (3, a2), (1, a3)] -> {t1}\n",
      "Auctioning #4\n",
      "Consensus #4\n",
      "[True, False, True, True]\n",
      "[True, False, True, True]\n",
      "[True, False, True, False]\n",
      "[True, False, True, False]\n",
      "[True, False, True, False]\n",
      "a3 loose bid on t4\n",
      "[True, False, True, True]\n",
      "[True, False, True, False]\n",
      "[True, False, True, True]\n",
      "\n",
      "Turn 5, 3 allocated\n",
      "a1 -> [(7, a4), (0, None), (3, a2), (2, a1)] -> {t4}\n",
      "a2 -> [(7, a4), (0, None), (3, a2), (2, a1)] -> {t3}\n",
      "a3 -> [(7, a4), (0, None), (3, a2), (2, a1)] -> set()\n",
      "a4 -> [(7, a4), (0, None), (3, a2), (2, a1)] -> {t1}\n",
      "Auctioning #5\n",
      "a3 bid 1 on t2\n",
      "Consensus #5\n",
      "[True, False, True, True]\n",
      "[True, False, True, True]\n",
      "[True, False, True, True]\n",
      "[True, False, True, True]\n",
      "[True, False, True, True]\n",
      "[True, False, True, True]\n",
      "[True, False, True, True]\n",
      "[True, False, True, True]\n",
      "\n",
      "Turn 6, 4 allocated\n",
      "a1 -> [(7, a4), (0, None), (3, a2), (2, a1)] -> {t4}\n",
      "a2 -> [(7, a4), (1, a3), (3, a2), (2, a1)] -> {t3}\n",
      "a3 -> [(7, a4), (1, a3), (3, a2), (2, a1)] -> {t2}\n",
      "a4 -> [(7, a4), (1, a3), (3, a2), (2, a1)] -> {t1}\n",
      "Auctioning #6\n",
      "Consensus #6\n",
      "[True, False, True, True]\n",
      "[True, False, True, True]\n",
      "[True, True, True, True]\n",
      "[True, True, True, True]\n",
      "[True, True, True, True]\n",
      "[True, True, True, True]\n",
      "[True, True, True, True]\n",
      "[True, True, True, True]\n",
      "\n",
      "Turn 7, 4 allocated\n",
      "a1 -> [(7, a4), (1, a3), (3, a2), (2, a1)] -> {t4}\n",
      "a2 -> [(7, a4), (1, a3), (3, a2), (2, a1)] -> {t3}\n",
      "a3 -> [(7, a4), (1, a3), (3, a2), (2, a1)] -> {t2}\n",
      "a4 -> [(7, a4), (1, a3), (3, a2), (2, a1)] -> {t1}\n",
      "Auctioning #7\n",
      "Consensus #7\n",
      "[True, True, True, True]\n",
      "[True, True, True, True]\n",
      "[True, True, True, True]\n",
      "[True, True, True, True]\n",
      "[True, True, True, True]\n",
      "[True, True, True, True]\n",
      "[True, True, True, True]\n",
      "[True, True, True, True]\n",
      "END : All agent consent\n",
      "\n",
      "Final assignment :\n",
      "a1 -> {t4}\n",
      "a2 -> {t3}\n",
      "a3 -> {t2}\n",
      "a4 -> {t1}\n"
     ]
    }
   ],
   "source": [
    "# Execution fiche exemple\n",
    "env = cbaa.Environment(envsize=8, comrange=4)\n",
    "env.init_randomenv(4, 4)\n",
    "\n",
    "my_cbaa = cbaa.CBAA(env)\n",
    "my_cbaa.compute_utilities()\n",
    "my_cbaa.env.init_test_env()\n",
    "\n",
    "printMap(my_cbaa)\n",
    "printUtilities(my_cbaa)\n",
    "\n",
    "print(\"\\nSTART CBAA\")\n",
    "my_cbaa.allocate()\n",
    "\n",
    "printFinal(my_cbaa)"
   ]
  },
  {
   "cell_type": "markdown",
   "metadata": {},
   "source": [
    "*Commentaires*"
   ]
  },
  {
   "cell_type": "code",
   "execution_count": 9,
   "metadata": {},
   "outputs": [
    {
     "name": "stdout",
     "output_type": "stream",
     "text": [
      "Map:\n",
      "_\t_\tr1\t_\t_\t_\tr3\t_\t\n",
      "_\t_\t_\t_\t_\tr4\t_\t_\t\n",
      "_\t_\t_\to4\t_\t_\t_\t_\t\n",
      "_\t_\t_\t_\t_\t_\t_\tr2\t\n",
      "_\t_\t_\t_\t_\t_\t_\t_\t\n",
      "_\t_\t_\t_\t_\t_\t_\t_\t\n",
      "_\t_\t_\to3\t_\t_\t_\to1\t\n",
      "_\t_\t_\to2\t_\t_\t_\t_\t\n",
      "\n",
      "Utilities:\n",
      "r1 -> [5, 8, 9, 13]\n",
      "r2 -> [13, 8, 9, 11]\n",
      "r3 -> [9, 6, 7, 11]\n",
      "r4 -> [9, 8, 9, 13]\n",
      "\n",
      "START CBAA\n",
      "\n",
      "Turn 1, 0 allocated\n",
      "r1 -> [(0, None), (0, None), (0, None), (0, None)] -> set()\n",
      "r2 -> [(0, None), (0, None), (0, None), (0, None)] -> set()\n",
      "r3 -> [(0, None), (0, None), (0, None), (0, None)] -> set()\n",
      "r4 -> [(0, None), (0, None), (0, None), (0, None)] -> set()\n",
      "Auctioning #1\n",
      "r1 bid 4 on o4\n",
      "r2 bid 2 on o1\n",
      "r3 bid 2 on o4\n",
      "r4 bid 4 on o4\n",
      "Consensus #1\n",
      "[False, False, False, False]\n",
      "[False, False, False, False]\n",
      "r1 loose bid on o4\n",
      "[False, False, False, False]\n",
      "[False, False, False, False]\n",
      "[False, False, False, False]\n",
      "r3 loose bid on o4\n",
      "[False, False, False, False]\n",
      "[False, False, False, False]\n",
      "[False, False, False, False]\n",
      "[False, False, False, False]\n",
      "[False, False, False, False]\n",
      "\n",
      "Turn 2, 2 allocated\n",
      "r1 -> [(0, None), (0, None), (0, None), (4, r4)] -> set()\n",
      "r2 -> [(2, r2), (0, None), (0, None), (4, r4)] -> {o1}\n",
      "r3 -> [(2, r2), (0, None), (0, None), (4, r4)] -> set()\n",
      "r4 -> [(2, r2), (0, None), (0, None), (4, r4)] -> {o4}\n",
      "Auctioning #2\n",
      "r1 bid 1 on o3\n",
      "r3 bid 1 on o3\n",
      "Consensus #2\n",
      "[False, False, False, True]\n",
      "r1 loose bid on o3\n",
      "[False, False, False, True]\n",
      "[True, False, False, True]\n",
      "[True, False, False, True]\n",
      "[False, False, False, True]\n",
      "[True, False, False, True]\n",
      "[True, False, False, True]\n",
      "[False, False, False, True]\n",
      "[True, False, False, True]\n",
      "[True, False, False, True]\n",
      "\n",
      "Turn 3, 3 allocated\n",
      "r1 -> [(2, r2), (0, None), (1, r3), (4, r4)] -> set()\n",
      "r2 -> [(2, r2), (0, None), (1, r3), (4, r4)] -> {o1}\n",
      "r3 -> [(2, r2), (0, None), (1, r3), (4, r4)] -> {o3}\n",
      "r4 -> [(2, r2), (0, None), (1, r3), (4, r4)] -> {o4}\n",
      "Auctioning #3\n",
      "r1 bid 7 on o2\n",
      "Consensus #3\n",
      "[True, False, True, True]\n",
      "[True, False, True, True]\n",
      "[True, False, True, True]\n",
      "[True, False, True, True]\n",
      "[True, False, True, True]\n",
      "[True, False, True, True]\n",
      "[True, False, True, True]\n",
      "[True, False, True, True]\n",
      "[True, False, True, True]\n",
      "[True, False, True, True]\n",
      "\n",
      "Turn 4, 4 allocated\n",
      "r1 -> [(2, r2), (7, r1), (1, r3), (4, r4)] -> {o2}\n",
      "r2 -> [(2, r2), (0, None), (1, r3), (4, r4)] -> {o1}\n",
      "r3 -> [(2, r2), (7, r1), (1, r3), (4, r4)] -> {o3}\n",
      "r4 -> [(2, r2), (7, r1), (1, r3), (4, r4)] -> {o4}\n",
      "Auctioning #4\n",
      "Consensus #4\n",
      "[True, True, True, True]\n",
      "[True, True, True, True]\n",
      "[True, False, True, True]\n",
      "[True, False, True, True]\n",
      "[True, True, True, True]\n",
      "[True, False, True, True]\n",
      "[True, True, True, True]\n",
      "[True, True, True, True]\n",
      "[True, False, True, True]\n",
      "[True, True, True, True]\n",
      "\n",
      "Turn 5, 4 allocated\n",
      "r1 -> [(2, r2), (7, r1), (1, r3), (4, r4)] -> {o2}\n",
      "r2 -> [(2, r2), (7, r1), (1, r3), (4, r4)] -> {o1}\n",
      "r3 -> [(2, r2), (7, r1), (1, r3), (4, r4)] -> {o3}\n",
      "r4 -> [(2, r2), (7, r1), (1, r3), (4, r4)] -> {o4}\n",
      "Auctioning #5\n",
      "Consensus #5\n",
      "[True, True, True, True]\n",
      "[True, True, True, True]\n",
      "[True, True, True, True]\n",
      "[True, True, True, True]\n",
      "[True, True, True, True]\n",
      "[True, True, True, True]\n",
      "[True, True, True, True]\n",
      "[True, True, True, True]\n",
      "[True, True, True, True]\n",
      "[True, True, True, True]\n",
      "END : All agent consent\n",
      "\n",
      "Final assignment :\n",
      "r1 -> {o2}\n",
      "r2 -> {o1}\n",
      "r3 -> {o3}\n",
      "r4 -> {o4}\n"
     ]
    }
   ],
   "source": [
    "# Execution random\n",
    "env = cbaa.Environment(envsize=8, comrange=4)\n",
    "env.init_randomenv(4, 4)\n",
    "\n",
    "my_cbaa = cbaa.CBAA(env)\n",
    "my_cbaa.compute_utilities()\n",
    "\n",
    "printMap(my_cbaa)\n",
    "printUtilities(my_cbaa)\n",
    "\n",
    "print(\"\\nSTART CBAA\")\n",
    "my_cbaa.allocate()\n",
    "\n",
    "printFinal(my_cbaa)"
   ]
  },
  {
   "cell_type": "markdown",
   "metadata": {},
   "source": [
    "*Commentaires*"
   ]
  },
  {
   "cell_type": "markdown",
   "metadata": {},
   "source": [
    "FIN"
   ]
  },
  {
   "cell_type": "code",
   "execution_count": null,
   "metadata": {},
   "outputs": [],
   "source": []
  }
 ],
 "metadata": {
  "kernelspec": {
   "display_name": "Python 3",
   "language": "python",
   "name": "python3"
  },
  "language_info": {
   "codemirror_mode": {
    "name": "ipython",
    "version": 3
   },
   "file_extension": ".py",
   "mimetype": "text/x-python",
   "name": "python",
   "nbconvert_exporter": "python",
   "pygments_lexer": "ipython3",
   "version": "3.7.3"
  }
 },
 "nbformat": 4,
 "nbformat_minor": 2
}
